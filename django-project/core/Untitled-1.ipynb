{
 "cells": [
  {
   "cell_type": "code",
   "execution_count": 4,
   "metadata": {},
   "outputs": [],
   "source": [
    "import requests\n",
    "from bs4 import BeautifulSoup\n",
    "\n",
    "url = \"https://www.cnnbrasil.com.br/esporte/com-gols-de-artilheiros-franca-faz-3-a-1-na-polonia-e-avanca-na-copa-do-mundo/\"\n",
    "get_url = requests.get(url)\n",
    "get_text = get_url.text\n",
    "soup = BeautifulSoup(get_text, \"html.parser\")\n"
   ]
  },
  {
   "cell_type": "code",
   "execution_count": 9,
   "metadata": {},
   "outputs": [
    {
     "name": "stdout",
     "output_type": "stream",
     "text": [
      " Com gols de artilheiros, França faz 3 a 1 na Polônia e avança na Copa do Mundo \n"
     ]
    }
   ],
   "source": [
    "company = soup.select('h1')[0].text.strip()\n",
    "print(company)"
   ]
  }
 ],
 "metadata": {
  "kernelspec": {
   "display_name": "Python 3.10.2 64-bit",
   "language": "python",
   "name": "python3"
  },
  "language_info": {
   "codemirror_mode": {
    "name": "ipython",
    "version": 3
   },
   "file_extension": ".py",
   "mimetype": "text/x-python",
   "name": "python",
   "nbconvert_exporter": "python",
   "pygments_lexer": "ipython3",
   "version": "3.10.2"
  },
  "orig_nbformat": 4,
  "vscode": {
   "interpreter": {
    "hash": "b93645a03e1ea1be71c1f9f844bc6ad4cf9e1d9e18d35fd598706a1530ff1742"
   }
  }
 },
 "nbformat": 4,
 "nbformat_minor": 2
}
